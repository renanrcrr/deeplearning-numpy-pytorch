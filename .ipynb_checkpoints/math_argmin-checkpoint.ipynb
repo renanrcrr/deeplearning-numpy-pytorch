{
 "cells": [
  {
   "cell_type": "code",
   "execution_count": 13,
   "id": "747936b8",
   "metadata": {},
   "outputs": [],
   "source": [
    "import numpy as np\n",
    "import torch\n",
    "import torch.nn as nn"
   ]
  },
  {
   "cell_type": "code",
   "execution_count": 14,
   "id": "efcd3ac7",
   "metadata": {},
   "outputs": [],
   "source": [
    "# create a vector\n",
    "v = np.array([ 1, 40, 2, -3 ])\n",
    "\n",
    "# find and report the maximum and minimum values\n",
    "minval = np.min(v)\n",
    "maxval = np.max(v)\n",
    "\n",
    "print(f'Min, max: {minval},{maxval}')\n",
    "\n",
    "# now for the argmin/max\n",
    "minidx = np.argmin(v)\n",
    "maxidx = np.argmax(v)\n",
    "\n",
    "print(f'Min, max indicies: {minidx},{maxidx}')"
   ]
  },
  {
   "cell_type": "code",
   "execution_count": 15,
   "id": "e00c6adb",
   "metadata": {},
   "outputs": [],
   "source": [
    "# repeat with matrix\n",
    "M = np.array([ [0, 1, 10],\n",
    "               [20, 8, 5]\n",
    "            ])\n",
    "print(M), print(' ')\n",
    "\n",
    "# various minima in this matrix\n",
    "minvals1 = np.min(M) # mnimum from ENTIRE matrix\n",
    "minvals2 = np.min(M, axis=0) # minimum of each column (across rows)\n",
    "minvals3 = np.min(M, axis=1) # minimum of each row (acress columns)\n",
    "\n",
    "# print them out\n",
    "print(minvals1)\n",
    "print(minvals2)\n",
    "print(minvals3)"
   ]
  },
  {
   "cell_type": "code",
   "execution_count": null,
   "id": "f16128ff",
   "metadata": {},
   "outputs": [],
   "source": []
  }
 ],
 "metadata": {
  "kernelspec": {
   "display_name": "Python 3 (ipykernel)",
   "language": "python",
   "name": "python3"
  },
  "language_info": {
   "codemirror_mode": {
    "name": "ipython",
    "version": 3
   },
   "file_extension": ".py",
   "mimetype": "text/x-python",
   "name": "python",
   "nbconvert_exporter": "python",
   "pygments_lexer": "ipython3",
   "version": "3.11.3"
  }
 },
 "nbformat": 4,
 "nbformat_minor": 5
}
