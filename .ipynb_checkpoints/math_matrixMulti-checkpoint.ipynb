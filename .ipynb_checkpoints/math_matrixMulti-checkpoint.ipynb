{
 "cells": [
  {
   "cell_type": "code",
   "execution_count": 1,
   "id": "1af16cad",
   "metadata": {},
   "outputs": [],
   "source": [
    "import torch\n",
    "import numpy as np"
   ]
  },
  {
   "cell_type": "code",
   "execution_count": 3,
   "id": "e581797b",
   "metadata": {},
   "outputs": [],
   "source": [
    "# create some random matrices using numpy\n",
    "A = np.random.randn(3,4)\n",
    "B = np.random.randn(4,5)\n",
    "C = np.random.randn(4,7)\n",
    "\n",
    "# try some multiplications\n",
    "# print(np.round(np.matmul(A,B), 2)), print(' ')\n",
    "# print(np.round(np.matmul(A,C), 2)), print(' ')\n",
    "# print(np.round(np.matmul(C.(np.matmul(T,A))), 2)), print(' ')"
   ]
  },
  {
   "cell_type": "code",
   "execution_count": null,
   "id": "07481560",
   "metadata": {},
   "outputs": [],
   "source": [
    "# create some random matrices using torch and numpy\n",
    "A = torch.randn(3,4) \n",
    "B = torch.randn(4,5)\n",
    "C1 = np.random.randn(3,7)\n",
    "C2 = torch.tensor(C1, dtype=torch.float)\n",
    "\n",
    "# try some multiplications\n",
    "print(np.round(np.matmul(A,B), 2)), print(' ')\n",
    "# print(np.round(np.matmul(A,B.T), 2)), print(' ')\n",
    "# print(np.round(np.matmul(A,C1), 2)), print(' ')\n",
    "# print(np.round(np.matmul(A, C2), 2)), print(' ')"
   ]
  },
  {
   "cell_type": "code",
   "execution_count": null,
   "id": "e82adccd",
   "metadata": {},
   "outputs": [],
   "source": []
  }
 ],
 "metadata": {
  "kernelspec": {
   "display_name": "Python 3 (ipykernel)",
   "language": "python",
   "name": "python3"
  },
  "language_info": {
   "codemirror_mode": {
    "name": "ipython",
    "version": 3
   },
   "file_extension": ".py",
   "mimetype": "text/x-python",
   "name": "python",
   "nbconvert_exporter": "python",
   "pygments_lexer": "ipython3",
   "version": "3.11.3"
  }
 },
 "nbformat": 4,
 "nbformat_minor": 5
}
