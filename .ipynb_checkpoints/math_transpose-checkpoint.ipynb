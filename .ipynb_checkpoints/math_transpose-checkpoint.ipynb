{
 "cells": [
  {
   "cell_type": "code",
   "execution_count": 11,
   "id": "d75257fa",
   "metadata": {},
   "outputs": [],
   "source": [
    "import numpy as np\n",
    "import torch"
   ]
  },
  {
   "cell_type": "code",
   "execution_count": 27,
   "id": "d7ff7897",
   "metadata": {},
   "outputs": [
    {
     "name": "stdout",
     "output_type": "stream",
     "text": [
      "[[1 2 3 4]]\n",
      " \n",
      "[[1]\n",
      " [2]\n",
      " [3]\n",
      " [4]]\n",
      " \n",
      "[[1 2 3 4]]\n",
      " \n"
     ]
    },
    {
     "data": {
      "text/plain": [
       "(None, None)"
      ]
     },
     "execution_count": 27,
     "metadata": {},
     "output_type": "execute_result"
    }
   ],
   "source": [
    "'''\n",
    "Vextor concepts using Numpy\n",
    "'''\n",
    "\n",
    "# create a vector\n",
    "nv = np.array([ [1,2,3,4 ]])\n",
    "print(nv), print(' ')\n",
    "\n",
    "# transpose it\n",
    "print(nv.T), print (' ')\n",
    "\n",
    "# transpose the transpose!\n",
    "nvT = nv.T\n",
    "print(nvT.T), print(' ')\n"
   ]
  },
  {
   "cell_type": "code",
   "execution_count": 22,
   "id": "a2d88296",
   "metadata": {},
   "outputs": [
    {
     "name": "stdout",
     "output_type": "stream",
     "text": [
      "[[1 2 3 4]\n",
      " [5 6 7 8]]\n",
      "  \n",
      "[[1 5]\n",
      " [2 6]\n",
      " [3 7]\n",
      " [4 8]]\n",
      " \n",
      "[[1 2 3 4]\n",
      " [5 6 7 8]]\n",
      " \n"
     ]
    },
    {
     "data": {
      "text/plain": [
       "(None, None)"
      ]
     },
     "execution_count": 22,
     "metadata": {},
     "output_type": "execute_result"
    }
   ],
   "source": [
    "'''\n",
    "Matrix concepts using Numpy\n",
    "'''\n",
    "\n",
    "# repeat for a matrix\n",
    "nM = np.array([ [1,2,3,4], [5,6,7,8] ])\n",
    "print(nM), print('  ')\n",
    "\n",
    "# transpose it\n",
    "print(nM.T), print (' ')\n",
    "\n",
    "# transpose the transpose!\n",
    "nMT = nM.T\n",
    "print(nMT.T), print(' ')"
   ]
  },
  {
   "cell_type": "code",
   "execution_count": 24,
   "id": "b5672cb1",
   "metadata": {},
   "outputs": [
    {
     "name": "stdout",
     "output_type": "stream",
     "text": [
      "tensor([[1, 2, 3, 4]])\n",
      " \n",
      "tensor([[1],\n",
      "        [2],\n",
      "        [3],\n",
      "        [4]])\n",
      " \n",
      "tensor([[1, 2, 3, 4]])\n",
      " \n"
     ]
    },
    {
     "data": {
      "text/plain": [
       "(None, None)"
      ]
     },
     "execution_count": 24,
     "metadata": {},
     "output_type": "execute_result"
    }
   ],
   "source": [
    "'''\n",
    "Vextor concepts using Pytorch\n",
    "\n",
    "Similar code between Pytorch and Numpy\n",
    "'''\n",
    "\n",
    "# create a vector\n",
    "tv = torch.tensor([ [1,2,3,4 ]])\n",
    "print(tv), print(' ')\n",
    "\n",
    "# transpose it\n",
    "print(tv.T), print (' ')\n",
    "\n",
    "# transpose the transpose!\n",
    "tvT = tv.T\n",
    "print(tvT.T), print(' ')\n"
   ]
  },
  {
   "cell_type": "code",
   "execution_count": 25,
   "id": "327a1e93",
   "metadata": {},
   "outputs": [
    {
     "name": "stdout",
     "output_type": "stream",
     "text": [
      "tensor([[1, 2, 3, 4],\n",
      "        [5, 6, 7, 8]])\n",
      "  \n",
      "tensor([[1, 5],\n",
      "        [2, 6],\n",
      "        [3, 7],\n",
      "        [4, 8]])\n",
      " \n",
      "tensor([[1, 2, 3, 4],\n",
      "        [5, 6, 7, 8]])\n",
      " \n"
     ]
    },
    {
     "data": {
      "text/plain": [
       "(None, None)"
      ]
     },
     "execution_count": 25,
     "metadata": {},
     "output_type": "execute_result"
    }
   ],
   "source": [
    "'''\n",
    "Matrix concepts using Pytorch\n",
    "'''\n",
    "\n",
    "# repeat for a matrix\n",
    "tM = torch.tensor([ [1,2,3,4], [5,6,7,8] ])\n",
    "print(tM), print('  ')\n",
    "\n",
    "# transpose it\n",
    "print(tM.T), print (' ')\n",
    "\n",
    "# transpose the transpose!\n",
    "tMT = tM.T\n",
    "print(tMT.T), print(' ')"
   ]
  },
  {
   "cell_type": "code",
   "execution_count": 28,
   "id": "f85526d4",
   "metadata": {},
   "outputs": [
    {
     "name": "stdout",
     "output_type": "stream",
     "text": [
      "Variable nv is of type <class 'numpy.ndarray'>\n",
      "Variable nM is of type <class 'numpy.ndarray'>\n",
      "Variable tv is of type <class 'torch.Tensor'>\n",
      "Variable tM is of type <class 'torch.Tensor'>\n"
     ]
    }
   ],
   "source": [
    "# examine data types\n",
    "print(f'Variable nv is of type {type(nv)}')\n",
    "print(f'Variable nM is of type {type(nM)}')\n",
    "print(f'Variable tv is of type {type(tv)}')\n",
    "print(f'Variable tM is of type {type(tM)}')"
   ]
  },
  {
   "cell_type": "code",
   "execution_count": null,
   "id": "61a8c903",
   "metadata": {},
   "outputs": [],
   "source": []
  }
 ],
 "metadata": {
  "kernelspec": {
   "display_name": "Python 3 (ipykernel)",
   "language": "python",
   "name": "python3"
  },
  "language_info": {
   "codemirror_mode": {
    "name": "ipython",
    "version": 3
   },
   "file_extension": ".py",
   "mimetype": "text/x-python",
   "name": "python",
   "nbconvert_exporter": "python",
   "pygments_lexer": "ipython3",
   "version": "3.11.3"
  }
 },
 "nbformat": 4,
 "nbformat_minor": 5
}
