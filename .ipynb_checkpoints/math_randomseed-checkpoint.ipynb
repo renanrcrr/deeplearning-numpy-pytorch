{
 "cells": [
  {
   "cell_type": "code",
   "execution_count": 1,
   "id": "9a9ba078",
   "metadata": {},
   "outputs": [],
   "source": [
    "import numpy as np\n",
    "import torch"
   ]
  },
  {
   "cell_type": "code",
   "execution_count": 7,
   "id": "e1b41bf7",
   "metadata": {},
   "outputs": [
    {
     "name": "stdout",
     "output_type": "stream",
     "text": [
      "[ 0.88389311  0.19586502  0.35753652 -2.34326191 -1.08483259]\n",
      "[ 0.55969629  0.93946935 -0.97848104  0.50309684  0.40641447]\n"
     ]
    }
   ],
   "source": [
    "# generate a few random numbers\n",
    "np.random.randn(5)\n",
    "\n",
    "# repeate after fixing the seed (old-but-still-widely-used method)\n",
    "np.random.seed(20)\n",
    "print(np.random.randn(5))\n",
    "print(np.random.randn(5))\n",
    "\n",
    "# [ 0.88389311  0.19586502  0.35753652 -2.34326191 -1.08483259]\n",
    "# [ 0.55969629  0.93946935 -0.97848104  0.50309684  0.40641447]"
   ]
  },
  {
   "cell_type": "code",
   "execution_count": 18,
   "id": "36d88f1e",
   "metadata": {},
   "outputs": [
    {
     "name": "stdout",
     "output_type": "stream",
     "text": [
      "[ 0.27626589 -1.85462808  0.62390111  1.14531129  1.03719047]\n",
      "[ 3.11357228 -0.75402433  0.16482188  0.06204207 -0.09804634]\n",
      "[ 1.88663893 -0.11169829 -0.36210134  0.14867505 -0.43778315]\n",
      "[-1.09022028  0.28734546 -0.76334163  0.22814595 -1.17268972]\n",
      "[-0.82869277  0.1140476   0.52772847  0.15583822  1.3014294 ]\n"
     ]
    }
   ],
   "source": [
    "# New seed mechanism in numpy\n",
    "randseed1 = np.random.RandomState(17)\n",
    "randseed2 = np.random.RandomState(10092320)\n",
    "\n",
    "print(randseed1.randn(5)) # same sequence\n",
    "print(randseed2.randn(5)) # different from above, but same each time\n",
    "print(randseed1.randn(5)) # same as two up\n",
    "print(randseed2.randn(5)) # same as two up\n",
    "print(np.random.randn(5)) # different every time\n",
    "\n",
    "# [ 0.27626589 -1.85462808  0.62390111  1.14531129  1.03719047]\n",
    "# [ 3.11357228 -0.75402433  0.16482188  0.06204207 -0.09804634]\n",
    "# [ 1.88663893 -0.11169829 -0.36210134  0.14867505 -0.43778315]\n",
    "# [-1.09022028  0.28734546 -0.76334163  0.22814595 -1.17268972]\n",
    "# [ 1.48114365 -0.21966112  1.50339816 -1.48238505 -0.85616422]"
   ]
  },
  {
   "cell_type": "code",
   "execution_count": 19,
   "id": "c930f2c2",
   "metadata": {},
   "outputs": [
    {
     "data": {
      "text/plain": [
       "tensor([-0.9501,  0.8484, -0.1241,  0.4653, -0.3078])"
      ]
     },
     "execution_count": 19,
     "metadata": {},
     "output_type": "execute_result"
    }
   ],
   "source": [
    "# Now in pytorch\n",
    "torch.randn(5)"
   ]
  },
  {
   "cell_type": "code",
   "execution_count": 21,
   "id": "758fc1d3",
   "metadata": {},
   "outputs": [
    {
     "name": "stdout",
     "output_type": "stream",
     "text": [
      "tensor([-1.4135,  0.2336,  0.0340,  0.3499, -0.0145])\n",
      "[-0.99480191  2.09466534  0.35942899  0.69100212 -1.48571961]\n"
     ]
    }
   ],
   "source": [
    "torch.manual_seed(17)\n",
    "print(torch.randn(5))\n",
    "\n",
    "# torch's seed doesn't spread to numpy\n",
    "print(np.random.randn(5))"
   ]
  },
  {
   "cell_type": "raw",
   "id": "d29e7676",
   "metadata": {},
   "source": []
  }
 ],
 "metadata": {
  "kernelspec": {
   "display_name": "Python 3 (ipykernel)",
   "language": "python",
   "name": "python3"
  },
  "language_info": {
   "codemirror_mode": {
    "name": "ipython",
    "version": 3
   },
   "file_extension": ".py",
   "mimetype": "text/x-python",
   "name": "python",
   "nbconvert_exporter": "python",
   "pygments_lexer": "ipython3",
   "version": "3.11.3"
  }
 },
 "nbformat": 4,
 "nbformat_minor": 5
}
