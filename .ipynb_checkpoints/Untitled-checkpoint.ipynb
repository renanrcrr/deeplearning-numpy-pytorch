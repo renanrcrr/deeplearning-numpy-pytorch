{
 "cells": [
  {
   "cell_type": "code",
   "execution_count": 2,
   "id": "275d47c4",
   "metadata": {},
   "outputs": [],
   "source": [
    "# Logarithm:\n",
    "# 1.Log is a monotonic function of x => This is important because minimizing x is the same thing as minimizing log(x)!\n",
    "# 2.Log stretches small values of x => This is important because log better distinguishes smal and closely spaced numbers\n",
    "\n",
    "# Logarithm and Machine Learning\n",
    "# 1.ML (and thus DL) often involves minimizing small quantities like probabilities\n",
    "# 2.Computers suffer from precision errors when working with very small numbers"
   ]
  },
  {
   "cell_type": "code",
   "execution_count": 3,
   "id": "268d1e5a",
   "metadata": {},
   "outputs": [],
   "source": [
    "import numpy as np\n",
    "import matplotlib.pyplot as plt"
   ]
  },
  {
   "cell_type": "code",
   "execution_count": null,
   "id": "c1a1c84f",
   "metadata": {},
   "outputs": [],
   "source": [
    "# define a set of points to evaluate\n",
    "x = np.linspace(.0001, 1, 200)\n",
    "\n",
    "# compute their log\n",
    "logx = np.log(x)\n",
    "\n",
    "# plot!\n",
    "fig = plt.figure(figsize(10,4))\n",
    "\n",
    "# increase font size. FYI\n",
    "plt.rcParams(update({'font.size':15}))\n",
    "\n",
    "plt.plot(x, logx, 'ks-', markerfacecolor='w')\n",
    "plt.xlabel('x')\n",
    "plt.ylabel('log(x)')\n",
    "plt.show()"
   ]
  }
 ],
 "metadata": {
  "kernelspec": {
   "display_name": "Python 3 (ipykernel)",
   "language": "python",
   "name": "python3"
  },
  "language_info": {
   "codemirror_mode": {
    "name": "ipython",
    "version": 3
   },
   "file_extension": ".py",
   "mimetype": "text/x-python",
   "name": "python",
   "nbconvert_exporter": "python",
   "pygments_lexer": "ipython3",
   "version": "3.11.3"
  }
 },
 "nbformat": 4,
 "nbformat_minor": 5
}
