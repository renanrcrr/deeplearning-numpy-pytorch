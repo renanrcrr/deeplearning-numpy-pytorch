{
 "cells": [
  {
   "cell_type": "code",
   "execution_count": 2,
   "id": "3b498cb6",
   "metadata": {},
   "outputs": [],
   "source": [
    "# Logarithm:\n",
    "# 1.Log is a monotonic function of x => This is important because minimizing x is the same thing as minimizing log(x)!\n",
    "# 2.Log stretches small values of x => This is important because log better distinguishes smal and closely spaced numbers\n",
    "\n",
    "# Logarithm and Machine Learning\n",
    "# 1.ML (and thus DL) often involves minimizing small quantities like probabilities\n",
    "# 2.Computers suffer from precision errors when working with very small numbers"
   ]
  },
  {
   "cell_type": "code",
   "execution_count": 3,
   "id": "48fc66f7",
   "metadata": {},
   "outputs": [],
   "source": [
    "import numpy as np\n",
    "import matplotlib.pyplot as plt"
   ]
  },
  {
   "cell_type": "code",
   "execution_count": 4,
   "id": "662dc4d2",
   "metadata": {},
   "outputs": [
    {
     "ename": "NameError",
     "evalue": "name 'figsize' is not defined",
     "output_type": "error",
     "traceback": [
      "\u001b[1;31m---------------------------------------------------------------------------\u001b[0m",
      "\u001b[1;31mNameError\u001b[0m                                 Traceback (most recent call last)",
      "Cell \u001b[1;32mIn[4], line 8\u001b[0m\n\u001b[0;32m      5\u001b[0m logx \u001b[38;5;241m=\u001b[39m np\u001b[38;5;241m.\u001b[39mlog(x)\n\u001b[0;32m      7\u001b[0m \u001b[38;5;66;03m# plot!\u001b[39;00m\n\u001b[1;32m----> 8\u001b[0m fig \u001b[38;5;241m=\u001b[39m plt\u001b[38;5;241m.\u001b[39mfigure(figsize(\u001b[38;5;241m10\u001b[39m,\u001b[38;5;241m4\u001b[39m))\n\u001b[0;32m     10\u001b[0m \u001b[38;5;66;03m# increase font size. FYI\u001b[39;00m\n\u001b[0;32m     11\u001b[0m plt\u001b[38;5;241m.\u001b[39mrcParams(update({\u001b[38;5;124m'\u001b[39m\u001b[38;5;124mfont.size\u001b[39m\u001b[38;5;124m'\u001b[39m:\u001b[38;5;241m15\u001b[39m}))\n",
      "\u001b[1;31mNameError\u001b[0m: name 'figsize' is not defined"
     ]
    }
   ],
   "source": [
    "# define a set of points to evaluate\n",
    "x = np.linspace(.0001, 1, 200)\n",
    "\n",
    "# compute their log\n",
    "logx = np.log(x)\n",
    "\n",
    "# plot!\n",
    "fig = plt.figure(figsize(10,4))\n",
    "\n",
    "# increase font size. FYI\n",
    "plt.rcParams(update({'font.size':15}))\n",
    "\n",
    "plt.plot(x, logx, 'ks-', markerfacecolor='w')\n",
    "plt.xlabel('x')\n",
    "plt.ylabel('log(x)')\n",
    "plt.show()"
   ]
  },
  {
   "cell_type": "code",
   "execution_count": null,
   "id": "b6272408",
   "metadata": {},
   "outputs": [],
   "source": [
    "# deonstration that log and exp are inverses\n",
    "\n",
    "# redefine with fewer points\n",
    "x = np.linspace(.0001,1,20)\n",
    "\n",
    "# log and exp\n",
    "logx = np.log(x)\n",
    "expx = np.exp(x)\n",
    "\n",
    "# the plot\n",
    "plt.plot(x,x,color=[.8,.8.8])\n",
    "plt.plot(x,np.exp(logx), 'o', markersize=8)\n",
    "plt.plot(x,np.log(expx), 'x', markersize=8)\n",
    "plt.xlabel('x')\n",
    "plt.ylabel('f(g(x))')\n",
    "plt.legend(['unity', 'exp(log(x)), '])"
   ]
  }
 ],
 "metadata": {
  "kernelspec": {
   "display_name": "Python 3 (ipykernel)",
   "language": "python",
   "name": "python3"
  },
  "language_info": {
   "codemirror_mode": {
    "name": "ipython",
    "version": 3
   },
   "file_extension": ".py",
   "mimetype": "text/x-python",
   "name": "python",
   "nbconvert_exporter": "python",
   "pygments_lexer": "ipython3",
   "version": "3.11.3"
  }
 },
 "nbformat": 4,
 "nbformat_minor": 5
}
