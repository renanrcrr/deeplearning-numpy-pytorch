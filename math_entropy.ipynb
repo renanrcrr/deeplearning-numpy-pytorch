{
 "cells": [
  {
   "cell_type": "code",
   "execution_count": 2,
   "id": "28a58815",
   "metadata": {},
   "outputs": [
    {
     "data": {
      "text/plain": [
       "'\\nEntropy describes one probability distribution\\n\\nCross-entropy describes the relationship between two probability distributions\\n'"
      ]
     },
     "execution_count": 2,
     "metadata": {},
     "output_type": "execute_result"
    }
   ],
   "source": [
    "'''\n",
    "High entropy means that the dataset has a lot of variability.\n",
    "Low entropy means that most of the values of the dataset repeat (and therefore are redundant)\n",
    "'''\n",
    "\n",
    "'''\n",
    "Entropy describes one probability distribution\n",
    "\n",
    "Cross-entropy describes the relationship between two probability distributions\n",
    "'''"
   ]
  },
  {
   "cell_type": "code",
   "execution_count": 3,
   "id": "a37b2531",
   "metadata": {},
   "outputs": [],
   "source": [
    "import numpy as np\n",
    "import matplotlib.pyplot as plt"
   ]
  },
  {
   "cell_type": "code",
   "execution_count": 4,
   "id": "58a2d8ba",
   "metadata": {},
   "outputs": [
    {
     "name": "stdout",
     "output_type": "stream",
     "text": [
      "Wrong entropy: 0.34657359027997264\n"
     ]
    }
   ],
   "source": [
    "# probablity of an event happening\n",
    "p = .25\n",
    "\n",
    "# NOT the correct formula!\n",
    "H = -( p*np.log(p) )\n",
    "print('Wrong entropy: ' + str(H))"
   ]
  },
  {
   "cell_type": "code",
   "execution_count": 5,
   "id": "c7832a52",
   "metadata": {},
   "outputs": [
    {
     "name": "stdout",
     "output_type": "stream",
     "text": [
      "Correct entropy: 0.5623351446188083\n"
     ]
    }
   ],
   "source": [
    "# the correct way to compute entropy\n",
    "x = [.25, .75]\n",
    "\n",
    "H = 0\n",
    "for p in x:\n",
    "    H -= p*np.log(p)\n",
    "    \n",
    "print('Correct entropy: ' + str(H))"
   ]
  },
  {
   "cell_type": "code",
   "execution_count": 7,
   "id": "d1905bb9",
   "metadata": {},
   "outputs": [
    {
     "name": "stdout",
     "output_type": "stream",
     "text": [
      "Correct entropy: 0.5623351446188083\n"
     ]
    }
   ],
   "source": [
    "# Also correct, written out for N=2 events\n",
    "\n",
    "# Binary cross-entropy\n",
    "H = -( p*np.log(p) + (1-p)*np.log(1-p) )\n",
    "print('Correct entropy: ' + str(H))"
   ]
  },
  {
   "cell_type": "code",
   "execution_count": 8,
   "id": "81c3b2f0",
   "metadata": {},
   "outputs": [
    {
     "name": "stdout",
     "output_type": "stream",
     "text": [
      "Cross entropy: 1.3862943611198906\n"
     ]
    }
   ],
   "source": [
    "# note: all probs must sum to 1\n",
    "p = [ 1, 0 ] # sum = 1\n",
    "q = [ 0.25, .75 ] # sum = 1\n",
    "\n",
    "H = 0\n",
    "for i in range(len(p)):\n",
    "    H -= p[i]*np.log(q[i])\n",
    "\n",
    "print('Cross entropy: ' + str(H))"
   ]
  },
  {
   "cell_type": "code",
   "execution_count": 9,
   "id": "f4f05c15",
   "metadata": {},
   "outputs": [
    {
     "name": "stdout",
     "output_type": "stream",
     "text": [
      "Correct entropy: 1.3862943611198906\n"
     ]
    }
   ],
   "source": [
    "# also correct, written out for N=2 events\n",
    "H = -( p[0]*np.log(q[0]) + p[1]*np.log(q[1]) )\n",
    "print('Correct entropy: ' + str(H))"
   ]
  },
  {
   "cell_type": "code",
   "execution_count": 11,
   "id": "55a7d4bf",
   "metadata": {},
   "outputs": [
    {
     "name": "stdout",
     "output_type": "stream",
     "text": [
      "Manually simplified: 1.3862943611198906\n"
     ]
    }
   ],
   "source": [
    "# simplification\n",
    "H = -np.log(q[0])\n",
    "print('Manually simplified: ' + str(H))"
   ]
  },
  {
   "cell_type": "code",
   "execution_count": 14,
   "id": "1349bf96",
   "metadata": {},
   "outputs": [
    {
     "data": {
      "text/plain": [
       "tensor(1.3863)"
      ]
     },
     "execution_count": 14,
     "metadata": {},
     "output_type": "execute_result"
    }
   ],
   "source": [
    "# Now using torch\n",
    "import torch\n",
    "import torch.nn.functional as F\n",
    "\n",
    "# note: inputs must be Tensors\n",
    "q_tensor = torch.Tensor(q)\n",
    "p_tensor = torch.Tensor(p)\n",
    "\n",
    "F.binary_cross_entropy(q_tensor,p_tensor)"
   ]
  },
  {
   "cell_type": "code",
   "execution_count": null,
   "id": "cfea3b14",
   "metadata": {},
   "outputs": [],
   "source": []
  }
 ],
 "metadata": {
  "kernelspec": {
   "display_name": "Python 3 (ipykernel)",
   "language": "python",
   "name": "python3"
  },
  "language_info": {
   "codemirror_mode": {
    "name": "ipython",
    "version": 3
   },
   "file_extension": ".py",
   "mimetype": "text/x-python",
   "name": "python",
   "nbconvert_exporter": "python",
   "pygments_lexer": "ipython3",
   "version": "3.11.3"
  }
 },
 "nbformat": 4,
 "nbformat_minor": 5
}
