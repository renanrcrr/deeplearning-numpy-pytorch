{
 "cells": [
  {
   "cell_type": "code",
   "execution_count": 2,
   "id": "a9961f25",
   "metadata": {},
   "outputs": [],
   "source": [
    "import numpy as np\n",
    "import sympy as sym\n",
    "\n",
    "# make equations look nicer\n",
    "from IPython.display import display"
   ]
  },
  {
   "cell_type": "code",
   "execution_count": 5,
   "id": "12d1214e",
   "metadata": {},
   "outputs": [
    {
     "name": "stdout",
     "output_type": "stream",
     "text": [
      "The functions:\n"
     ]
    },
    {
     "data": {
      "text/latex": [
       "$\\displaystyle 2 X^{2}$"
      ],
      "text/plain": [
       "2*X**2"
      ]
     },
     "metadata": {},
     "output_type": "display_data"
    },
    {
     "data": {
      "text/latex": [
       "$\\displaystyle - 3 X^{4} + 4 X^{3}$"
      ],
      "text/plain": [
       "-3*X**4 + 4*X**3"
      ]
     },
     "metadata": {},
     "output_type": "display_data"
    },
    {
     "name": "stdout",
     "output_type": "stream",
     "text": [
      " \n",
      "Their derivatives:\n"
     ]
    },
    {
     "data": {
      "text/latex": [
       "$\\displaystyle 4 X$"
      ],
      "text/plain": [
       "4*X"
      ]
     },
     "metadata": {},
     "output_type": "display_data"
    },
    {
     "data": {
      "text/latex": [
       "$\\displaystyle - 12 X^{3} + 12 X^{2}$"
      ],
      "text/plain": [
       "-12*X**3 + 12*X**2"
      ]
     },
     "metadata": {},
     "output_type": "display_data"
    },
    {
     "name": "stdout",
     "output_type": "stream",
     "text": [
      " \n",
      "Manual product rule:\n"
     ]
    },
    {
     "data": {
      "text/latex": [
       "$\\displaystyle 2 X^{2} \\left(- 12 X^{3} + 12 X^{2}\\right) + 4 X \\left(- 3 X^{4} + 4 X^{3}\\right)$"
      ],
      "text/plain": [
       "2*X**2*(-12*X**3 + 12*X**2) + 4*X*(-3*X**4 + 4*X**3)"
      ]
     },
     "metadata": {},
     "output_type": "display_data"
    },
    {
     "name": "stdout",
     "output_type": "stream",
     "text": [
      " \n",
      "Via sympy:\n"
     ]
    },
    {
     "data": {
      "text/latex": [
       "$\\displaystyle 2 X^{2} \\left(- 12 X^{3} + 12 X^{2}\\right) + 4 X \\left(- 3 X^{4} + 4 X^{3}\\right)$"
      ],
      "text/plain": [
       "2*X**2*(-12*X**3 + 12*X**2) + 4*X*(-3*X**4 + 4*X**3)"
      ]
     },
     "metadata": {},
     "output_type": "display_data"
    },
    {
     "name": "stdout",
     "output_type": "stream",
     "text": [
      " \n",
      "The wrong way:\n"
     ]
    },
    {
     "data": {
      "text/latex": [
       "$\\displaystyle 4 X \\left(- 12 X^{3} + 12 X^{2}\\right)$"
      ],
      "text/plain": [
       "4*X*(-12*X**3 + 12*X**2)"
      ]
     },
     "metadata": {},
     "output_type": "display_data"
    },
    {
     "name": "stdout",
     "output_type": "stream",
     "text": [
      " \n"
     ]
    }
   ],
   "source": [
    "# create symbolic variables in sympy\n",
    "x = sym.symbols('X')\n",
    "\n",
    "# create two functions\n",
    "fx = 2*x**2\n",
    "gx = 4*x**3 - 3*x**4\n",
    "\n",
    "# compute their individual derivatives\n",
    "df = sym.diff(fx)\n",
    "dg = sym.diff(gx)\n",
    "\n",
    "# apply the product rule \"manually\"\n",
    "manual = df*gx + fx*dg\n",
    "thewrongway = df*dg\n",
    "\n",
    "# via sympy\n",
    "viasympy = sym.diff(fx*gx)\n",
    "\n",
    "# print everything\n",
    "print('The functions:')\n",
    "display(fx)\n",
    "display(gx)\n",
    "print(' ')\n",
    "\n",
    "print('Their derivatives:')\n",
    "display(df)\n",
    "display(dg)\n",
    "print(' ')\n",
    "\n",
    "print('Manual product rule:')\n",
    "display(manual)\n",
    "print(' ')\n",
    "\n",
    "print('Via sympy:')\n",
    "display(viasympy)\n",
    "print(' ')\n",
    "\n",
    "print('The wrong way:')\n",
    "display(thewrongway)\n",
    "print(' ')"
   ]
  },
  {
   "cell_type": "code",
   "execution_count": 6,
   "id": "5cfad920",
   "metadata": {},
   "outputs": [
    {
     "name": "stdout",
     "output_type": "stream",
     "text": [
      "The functions:\n"
     ]
    },
    {
     "data": {
      "text/latex": [
       "$\\displaystyle \\left(4 X^{3} + X^{2}\\right)^{5}$"
      ],
      "text/plain": [
       "(4*X**3 + X**2)**5"
      ]
     },
     "metadata": {},
     "output_type": "display_data"
    },
    {
     "name": "stdout",
     "output_type": "stream",
     "text": [
      " \n",
      "Its derivative:\n"
     ]
    },
    {
     "data": {
      "text/latex": [
       "$\\displaystyle \\left(60 X^{2} + 10 X\\right) \\left(4 X^{3} + X^{2}\\right)^{4}$"
      ],
      "text/plain": [
       "(60*X**2 + 10*X)*(4*X**3 + X**2)**4"
      ]
     },
     "metadata": {},
     "output_type": "display_data"
    }
   ],
   "source": [
    "# repeat with chain rule\n",
    "fx = (x**2 + 4*x**3) ** 5\n",
    "\n",
    "print('The functions:')\n",
    "display(fx)\n",
    "print(' ')\n",
    "\n",
    "print('Its derivative:')\n",
    "display(sym.diff(fx))"
   ]
  },
  {
   "cell_type": "code",
   "execution_count": null,
   "id": "8571e4de",
   "metadata": {},
   "outputs": [],
   "source": []
  }
 ],
 "metadata": {
  "kernelspec": {
   "display_name": "Python 3 (ipykernel)",
   "language": "python",
   "name": "python3"
  },
  "language_info": {
   "codemirror_mode": {
    "name": "ipython",
    "version": 3
   },
   "file_extension": ".py",
   "mimetype": "text/x-python",
   "name": "python",
   "nbconvert_exporter": "python",
   "pygments_lexer": "ipython3",
   "version": "3.11.3"
  }
 },
 "nbformat": 4,
 "nbformat_minor": 5
}
