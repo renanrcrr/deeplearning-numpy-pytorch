{
 "cells": [
  {
   "cell_type": "code",
   "execution_count": 1,
   "id": "a7c1122e",
   "metadata": {},
   "outputs": [
    {
     "name": "stderr",
     "output_type": "stream",
     "text": [
      "C:\\Users\\Renam Rodrigues\\AppData\\Local\\Temp\\ipykernel_20536\\2729461129.py:7: DeprecationWarning: `set_matplotlib_formats` is deprecated since IPython 7.23, directly use `matplotlib_inline.backend_inline.set_matplotlib_formats()`\n",
      "  display.set_matplotlib_formats('svg')\n"
     ]
    }
   ],
   "source": [
    "# import libraries\n",
    "import numpy as np\n",
    "import torch\n",
    "import torch.nn as nn\n",
    "import matplotlib.pyplot as plt\n",
    "from IPython import display\n",
    "display.set_matplotlib_formats('svg')"
   ]
  },
  {
   "cell_type": "code",
   "execution_count": null,
   "id": "92917797",
   "metadata": {},
   "outputs": [],
   "source": [
    "# create data\n",
    "N = 30\n",
    "x = torch.randn(N,1)\n",
    "y = x + torch.randn(N,1)/2\n",
    "\n",
    "# and plot\n",
    "plt.plot(x, y, 's')\n",
    "plt.show()"
   ]
  },
  {
   "cell_type": "code",
   "execution_count": 3,
   "id": "b0cd15d3",
   "metadata": {},
   "outputs": [
    {
     "ename": "NameError",
     "evalue": "name 'nn' is not defined",
     "output_type": "error",
     "traceback": [
      "\u001b[1;31m---------------------------------------------------------------------------\u001b[0m",
      "\u001b[1;31mNameError\u001b[0m                                 Traceback (most recent call last)",
      "Cell \u001b[1;32mIn[3], line 2\u001b[0m\n\u001b[0;32m      1\u001b[0m \u001b[38;5;66;03m# build model\u001b[39;00m\n\u001b[1;32m----> 2\u001b[0m ANNreg \u001b[38;5;241m=\u001b[39m nn\u001b[38;5;241m.\u001b[39mSequential(\n\u001b[0;32m      3\u001b[0m     nn\u001b[38;5;241m.\u001b[39mLinear(\u001b[38;5;241m1\u001b[39m,\u001b[38;5;241m1\u001b[39m),  \u001b[38;5;66;03m# input layer\u001b[39;00m\n\u001b[0;32m      4\u001b[0m     nn\u001b[38;5;241m.\u001b[39mReLU(),      \u001b[38;5;66;03m# activation layer function\u001b[39;00m\n\u001b[0;32m      5\u001b[0m     nn\u001b[38;5;241m.\u001b[39mLinear(\u001b[38;5;241m1\u001b[39m,\u001b[38;5;241m1\u001b[39m)  \u001b[38;5;66;03m# output layer\u001b[39;00m\n\u001b[0;32m      6\u001b[0m )\n\u001b[0;32m      8\u001b[0m ANNreg\n",
      "\u001b[1;31mNameError\u001b[0m: name 'nn' is not defined"
     ]
    }
   ],
   "source": [
    "# build model\n",
    "ANNreg = nn.Sequential(\n",
    "    nn.Linear(1,1),  # input layer\n",
    "    nn.ReLU(),      # activation layer function\n",
    "    nn.Linear(1,1)  # output layer\n",
    ")\n",
    "\n",
    "ANNreg"
   ]
  },
  {
   "cell_type": "code",
   "execution_count": 5,
   "id": "f52ecbc0",
   "metadata": {},
   "outputs": [
    {
     "ename": "NameError",
     "evalue": "name 'nnMSELoss' is not defined",
     "output_type": "error",
     "traceback": [
      "\u001b[1;31m---------------------------------------------------------------------------\u001b[0m",
      "\u001b[1;31mNameError\u001b[0m                                 Traceback (most recent call last)",
      "Cell \u001b[1;32mIn[5], line 5\u001b[0m\n\u001b[0;32m      2\u001b[0m learningRate \u001b[38;5;241m=\u001b[39m \u001b[38;5;241m.05\u001b[39m\n\u001b[0;32m      4\u001b[0m \u001b[38;5;66;03m# loss function\u001b[39;00m\n\u001b[1;32m----> 5\u001b[0m lossfun \u001b[38;5;241m=\u001b[39m nnMSELoss()\n\u001b[0;32m      7\u001b[0m \u001b[38;5;66;03m# optimizer (the favor of gradient descent to implement)\u001b[39;00m\n\u001b[0;32m      8\u001b[0m optimizer \u001b[38;5;241m=\u001b[39m torch\u001b[38;5;241m.\u001b[39moptim\u001b[38;5;241m.\u001b[39mSGD(ANNreg\u001b[38;5;241m.\u001b[39mparameters(), lr\u001b[38;5;241m=\u001b[39mlearningRate)\n",
      "\u001b[1;31mNameError\u001b[0m: name 'nnMSELoss' is not defined"
     ]
    }
   ],
   "source": [
    "# learning rate\n",
    "learningRate = .05\n",
    "\n",
    "# loss function\n",
    "lossfun = nnMSELoss()\n",
    "\n",
    "# optimizer (the favor of gradient descent to implement)\n",
    "optimizer = torch.optim.SGD(ANNreg.parameters(), lr=learningRate)"
   ]
  },
  {
   "cell_type": "code",
   "execution_count": 6,
   "id": "167d67c0",
   "metadata": {},
   "outputs": [
    {
     "ename": "NameError",
     "evalue": "name 'torch' is not defined",
     "output_type": "error",
     "traceback": [
      "\u001b[1;31m---------------------------------------------------------------------------\u001b[0m",
      "\u001b[1;31mNameError\u001b[0m                                 Traceback (most recent call last)",
      "Cell \u001b[1;32mIn[6], line 3\u001b[0m\n\u001b[0;32m      1\u001b[0m \u001b[38;5;66;03m# train the model\u001b[39;00m\n\u001b[0;32m      2\u001b[0m numepochs \u001b[38;5;241m=\u001b[39m \u001b[38;5;241m500\u001b[39m\n\u001b[1;32m----> 3\u001b[0m losses \u001b[38;5;241m=\u001b[39m torch\u001b[38;5;241m.\u001b[39mzeros(numepochs)\n\u001b[0;32m      5\u001b[0m \u001b[38;5;66;03m## Train the model\u001b[39;00m\n\u001b[0;32m      6\u001b[0m \u001b[38;5;28;01mfor\u001b[39;00m epochi \u001b[38;5;129;01min\u001b[39;00m \u001b[38;5;28mrange\u001b[39m(numepochs):\n\u001b[0;32m      7\u001b[0m     \u001b[38;5;66;03m# forward pass\u001b[39;00m\n",
      "\u001b[1;31mNameError\u001b[0m: name 'torch' is not defined"
     ]
    }
   ],
   "source": [
    "# train the model\n",
    "numepochs = 500\n",
    "losses = torch.zeros(numepochs)\n",
    "\n",
    "## Train the model\n",
    "for epochi in range(numepochs):\n",
    "    # forward pass\n",
    "    yHat = ANNreg(x)\n",
    "    \n",
    "    # comute loss\n",
    "    loss = lossfun(yHat, y)\n",
    "    losses[epochi] = loss\n",
    "    \n",
    "    # backprop\n",
    "    optimizer.zero_grad()\n",
    "    loss.backward()\n",
    "    optimizer.step()"
   ]
  },
  {
   "cell_type": "code",
   "execution_count": 7,
   "id": "117e964f",
   "metadata": {},
   "outputs": [
    {
     "ename": "NameError",
     "evalue": "name 'ANNreg' is not defined",
     "output_type": "error",
     "traceback": [
      "\u001b[1;31m---------------------------------------------------------------------------\u001b[0m",
      "\u001b[1;31mNameError\u001b[0m                                 Traceback (most recent call last)",
      "Cell \u001b[1;32mIn[7], line 5\u001b[0m\n\u001b[0;32m      1\u001b[0m \u001b[38;5;66;03m# show the losses\u001b[39;00m\n\u001b[0;32m      2\u001b[0m \n\u001b[0;32m      3\u001b[0m \u001b[38;5;66;03m# manually compute losses\u001b[39;00m\n\u001b[0;32m      4\u001b[0m \u001b[38;5;66;03m# final forward \u001b[39;00m\n\u001b[1;32m----> 5\u001b[0m predictions \u001b[38;5;241m=\u001b[39m ANNreg(x)\n\u001b[0;32m      7\u001b[0m \u001b[38;5;66;03m# final loss (MSE)\u001b[39;00m\n\u001b[0;32m      8\u001b[0m testloss \u001b[38;5;241m=\u001b[39m (predictions\u001b[38;5;241m-\u001b[39my)\u001b[38;5;241m.\u001b[39mpow(\u001b[38;5;241m2\u001b[39m)\u001b[38;5;241m.\u001b[39mmean()\n",
      "\u001b[1;31mNameError\u001b[0m: name 'ANNreg' is not defined"
     ]
    }
   ],
   "source": [
    "# show the losses\n",
    "\n",
    "# manually compute losses\n",
    "# final forward \n",
    "predictions = ANNreg(x)\n",
    "\n",
    "# final loss (MSE)\n",
    "testloss = (predictions-y).pow(2).mean()\n",
    "\n",
    "ptl.plot(losses.detach(), 'o', markerfacecolor='w', linewidth=.1)\n",
    "plt.plot(numepochs, testloss.detach(), 'ro')\n",
    "plt.xlabel('Epoch')\n",
    "plt.ylabel('Loss')\n",
    "plt.title('Final loss = %g' %testloss.item())\n",
    "plt.show()"
   ]
  },
  {
   "cell_type": "code",
   "execution_count": 9,
   "id": "34712987",
   "metadata": {},
   "outputs": [
    {
     "ename": "NameError",
     "evalue": "name 'plt' is not defined",
     "output_type": "error",
     "traceback": [
      "\u001b[1;31m---------------------------------------------------------------------------\u001b[0m",
      "\u001b[1;31mNameError\u001b[0m                                 Traceback (most recent call last)",
      "Cell \u001b[1;32mIn[9], line 2\u001b[0m\n\u001b[0;32m      1\u001b[0m \u001b[38;5;66;03m# plot teh data\u001b[39;00m\n\u001b[1;32m----> 2\u001b[0m plt\u001b[38;5;241m.\u001b[39mplot(x,y,\u001b[38;5;124m'\u001b[39m\u001b[38;5;124mbo\u001b[39m\u001b[38;5;124m'\u001b[39m,label\u001b[38;5;241m=\u001b[39m\u001b[38;5;124m'\u001b[39m\u001b[38;5;124mReal data\u001b[39m\u001b[38;5;124m'\u001b[39m)\n\u001b[0;32m      3\u001b[0m plt\u001b[38;5;241m.\u001b[39mplot(x,predictions\u001b[38;5;241m.\u001b[39mdetach(),\u001b[38;5;124m'\u001b[39m\u001b[38;5;124mrs\u001b[39m\u001b[38;5;124m'\u001b[39m,label\u001b[38;5;241m=\u001b[39m\u001b[38;5;124m'\u001b[39m\u001b[38;5;124mPredictions\u001b[39m\u001b[38;5;124m'\u001b[39m)\n\u001b[0;32m      4\u001b[0m plt\u001b[38;5;241m.\u001b[39mtitle(\u001b[38;5;124mf\u001b[39m\u001b[38;5;124m'\u001b[39m\u001b[38;5;124mprediction-data r=\u001b[39m\u001b[38;5;132;01m{\u001b[39;00mnp\u001b[38;5;241m.\u001b[39mcorrcoef(y\u001b[38;5;241m.\u001b[39mT,predictions\u001b[38;5;241m.\u001b[39mdetach()\u001b[38;5;241m.\u001b[39mT)[\u001b[38;5;241m0\u001b[39m,\u001b[38;5;241m1\u001b[39m]\u001b[38;5;132;01m:\u001b[39;00m\u001b[38;5;124m.2f\u001b[39m\u001b[38;5;132;01m}\u001b[39;00m\u001b[38;5;124m'\u001b[39m)\n",
      "\u001b[1;31mNameError\u001b[0m: name 'plt' is not defined"
     ]
    }
   ],
   "source": [
    "# plot teh data\n",
    "plt.plot(x,y,'bo',label='Real data')\n",
    "plt.plot(x,predictions.detach(),'rs',label='Predictions')\n",
    "plt.title(f'prediction-data r={np.corrcoef(y.T,predictions.detach().T)[0,1]:.2f}')\n",
    "plt.legend()\n",
    "plt.show()"
   ]
  },
  {
   "cell_type": "code",
   "execution_count": null,
   "id": "d7158669",
   "metadata": {},
   "outputs": [],
   "source": []
  }
 ],
 "metadata": {
  "kernelspec": {
   "display_name": "Python 3 (ipykernel)",
   "language": "python",
   "name": "python3"
  },
  "language_info": {
   "codemirror_mode": {
    "name": "ipython",
    "version": 3
   },
   "file_extension": ".py",
   "mimetype": "text/x-python",
   "name": "python",
   "nbconvert_exporter": "python",
   "pygments_lexer": "ipython3",
   "version": "3.11.3"
  }
 },
 "nbformat": 4,
 "nbformat_minor": 5
}
